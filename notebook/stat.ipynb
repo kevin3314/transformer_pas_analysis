{
 "cells": [
  {
   "cell_type": "code",
   "execution_count": 1,
   "metadata": {},
   "outputs": [],
   "source": [
    "%load_ext autoreload"
   ]
  },
  {
   "cell_type": "code",
   "execution_count": 2,
   "metadata": {},
   "outputs": [],
   "source": [
    "%autoreload"
   ]
  },
  {
   "cell_type": "code",
   "execution_count": 3,
   "metadata": {},
   "outputs": [],
   "source": [
    "from pathlib import Path\n",
    "from kyoto_reader import KyotoReader\n",
    "import json"
   ]
  },
  {
   "cell_type": "code",
   "execution_count": 4,
   "metadata": {},
   "outputs": [],
   "source": [
    "import sys; sys.path.append('../src')\n",
    "from data_loader.dataset.pas_dataset import PASDataset\n",
    "import data_loader.dataset as module_dataset\n",
    "from utils.parse_config import ConfigParser\n",
    "from utils import read_json"
   ]
  },
  {
   "cell_type": "code",
   "execution_count": 5,
   "metadata": {},
   "outputs": [],
   "source": [
    "cfg_file = 'BaselineModelOld-all-4e-nict-cz-vpa-npa-brg-coref.json'\n",
    "json_obj = read_json(cfg_file)\n",
    "json_obj['trainer']['save_dir'] = ''\n",
    "config = ConfigParser(json_obj, run_id='')"
   ]
  },
  {
   "cell_type": "code",
   "execution_count": 6,
   "metadata": {},
   "outputs": [
    {
     "name": "stderr",
     "output_type": "stream",
     "text": [
      "processing documents: 100%|██████████| 512/512 [00:01<00:00, 399.61it/s]\n"
     ]
    },
    {
     "data": {
      "text/plain": [
       "{'examples': 512,\n",
       " 'pas': {'preds': 4322,\n",
       "  'args': {'ガ': {'all': 3261,\n",
       "    'dep': 1159,\n",
       "    'overt': 422,\n",
       "    'null': 1059,\n",
       "    'zero': 553,\n",
       "    'exo': 1127},\n",
       "   'ヲ': {'null': 3327,\n",
       "    'all': 993,\n",
       "    'zero': 184,\n",
       "    'dep': 234,\n",
       "    'overt': 554,\n",
       "    'exo': 21},\n",
       "   'ニ': {'all': 972,\n",
       "    'overt': 479,\n",
       "    'null': 3343,\n",
       "    'exo': 228,\n",
       "    'zero': 169,\n",
       "    'dep': 96},\n",
       "   'ガ２': {'null': 4057, 'all': 265, 'dep': 77, 'exo': 122, 'zero': 66},\n",
       "   'all': {'all': 5491,\n",
       "    'dep': 1566,\n",
       "    'overt': 1455,\n",
       "    'null': 11786,\n",
       "    'zero': 972,\n",
       "    'exo': 1498}}},\n",
       " 'bridging': {'preds': 6750,\n",
       "  'args': {'null': 5557,\n",
       "   'all': 1193,\n",
       "   'dep': 492,\n",
       "   'zero': 318,\n",
       "   'overt': 285,\n",
       "   'exo': 98}},\n",
       " 'coreference': {'na': 5925, 'ana': 912, 'exo': 104, 'mentions': 1016},\n",
       " 'tokens': 26376}"
      ]
     },
     "execution_count": 6,
     "metadata": {},
     "output_type": "execute_result"
    }
   ],
   "source": [
    "stat_valid_kwdlc = config.init_obj('valid_kwdlc_dataset', module_dataset).stat()\n",
    "json.loads(json.dumps(stat_valid_kwdlc))"
   ]
  },
  {
   "cell_type": "code",
   "execution_count": 7,
   "metadata": {},
   "outputs": [
    {
     "name": "stderr",
     "output_type": "stream",
     "text": [
      "processing documents: 100%|██████████| 3912/3912 [00:11<00:00, 338.18it/s]\n"
     ]
    },
    {
     "data": {
      "text/plain": [
       "{'examples': 3912,\n",
       " 'pas': {'preds': 38191,\n",
       "  'args': {'ガ': {'all': 28912,\n",
       "    'exo': 10206,\n",
       "    'overt': 3535,\n",
       "    'null': 9263,\n",
       "    'dep': 9201,\n",
       "    'zero': 5970},\n",
       "   'ヲ': {'all': 11397,\n",
       "    'dep': 3126,\n",
       "    'overt': 5461,\n",
       "    'null': 26793,\n",
       "    'zero': 2551,\n",
       "    'exo': 259},\n",
       "   'ニ': {'null': 29801,\n",
       "    'all': 8381,\n",
       "    'overt': 3646,\n",
       "    'zero': 1634,\n",
       "    'dep': 751,\n",
       "    'exo': 2350},\n",
       "   'ガ２': {'null': 36746, 'all': 1444, 'dep': 559, 'exo': 567, 'zero': 318},\n",
       "   'all': {'all': 50134,\n",
       "    'exo': 13382,\n",
       "    'overt': 12642,\n",
       "    'null': 102603,\n",
       "    'dep': 13637,\n",
       "    'zero': 10473}}},\n",
       " 'bridging': {'preds': 53421,\n",
       "  'args': {'null': 43542,\n",
       "   'all': 9879,\n",
       "   'zero': 2784,\n",
       "   'dep': 4360,\n",
       "   'overt': 2179,\n",
       "   'exo': 556}},\n",
       " 'coreference': {'na': 48426, 'exo': 1244, 'ana': 8555, 'mentions': 9799},\n",
       " 'tokens': 219920}"
      ]
     },
     "execution_count": 7,
     "metadata": {},
     "output_type": "execute_result"
    }
   ],
   "source": [
    "stat_train_kwdlc = config.init_obj('train_kwdlc_dataset', module_dataset).stat()\n",
    "json.loads(json.dumps(stat_train_kwdlc))"
   ]
  },
  {
   "cell_type": "code",
   "execution_count": 8,
   "metadata": {},
   "outputs": [
    {
     "name": "stderr",
     "output_type": "stream",
     "text": [
      "processing documents: 100%|██████████| 842/842 [00:03<00:00, 251.79it/s]\n"
     ]
    },
    {
     "data": {
      "text/plain": [
       "{'examples': 842,\n",
       " 'pas': {'preds': 5794,\n",
       "  'args': {'ガ': {'all': 4186,\n",
       "    'exo': 554,\n",
       "    'dep': 1519,\n",
       "    'null': 1603,\n",
       "    'overt': 666,\n",
       "    'zero': 1447},\n",
       "   'ヲ': {'null': 4127,\n",
       "    'all': 1666,\n",
       "    'overt': 925,\n",
       "    'dep': 424,\n",
       "    'zero': 305,\n",
       "    'exo': 12},\n",
       "   'ニ': {'null': 4787,\n",
       "    'all': 1007,\n",
       "    'overt': 561,\n",
       "    'exo': 112,\n",
       "    'zero': 254,\n",
       "    'dep': 80},\n",
       "   'ガ２': {'null': 5696, 'all': 98, 'zero': 46, 'dep': 42, 'exo': 10},\n",
       "   'all': {'all': 6957,\n",
       "    'exo': 688,\n",
       "    'dep': 2065,\n",
       "    'null': 16213,\n",
       "    'overt': 2152,\n",
       "    'zero': 2052}}},\n",
       " 'bridging': {'preds': 9212,\n",
       "  'args': {'null': 7487,\n",
       "   'all': 1725,\n",
       "   'dep': 746,\n",
       "   'zero': 614,\n",
       "   'overt': 345,\n",
       "   'exo': 20}},\n",
       " 'coreference': {'na': 8950, 'ana': 1458, 'exo': 26, 'mentions': 1484},\n",
       " 'tokens': 87017}"
      ]
     },
     "execution_count": 8,
     "metadata": {},
     "output_type": "execute_result"
    }
   ],
   "source": [
    "stat_valid_kc = config.init_obj('valid_kc_dataset', module_dataset).stat()\n",
    "json.loads(json.dumps(stat_valid_kc))"
   ]
  },
  {
   "cell_type": "code",
   "execution_count": 11,
   "metadata": {},
   "outputs": [
    {
     "name": "stderr",
     "output_type": "stream",
     "text": [
      "processing documents: 100%|██████████| 6207/6207 [00:24<00:00, 258.44it/s]\n"
     ]
    },
    {
     "data": {
      "text/plain": [
       "{'examples': 6200,\n",
       " 'pas': {'preds': 41201,\n",
       "  'args': {'ガ': {'null': 10728,\n",
       "    'all': 30407,\n",
       "    'zero': 10832,\n",
       "    'dep': 11660,\n",
       "    'overt': 4823,\n",
       "    'exo': 3092},\n",
       "   'ヲ': {'null': 29159,\n",
       "    'all': 12029,\n",
       "    'zero': 2334,\n",
       "    'overt': 6643,\n",
       "    'dep': 2899,\n",
       "    'exo': 153},\n",
       "   'ニ': {'all': 7844,\n",
       "    'overt': 4290,\n",
       "    'null': 33341,\n",
       "    'dep': 668,\n",
       "    'zero': 2038,\n",
       "    'exo': 848},\n",
       "   'ガ２': {'null': 40537, 'all': 664, 'dep': 321, 'zero': 280, 'exo': 63},\n",
       "   'all': {'null': 113765,\n",
       "    'all': 50944,\n",
       "    'zero': 15484,\n",
       "    'dep': 15548,\n",
       "    'overt': 15756,\n",
       "    'exo': 4156}}},\n",
       " 'bridging': {'preds': 68879,\n",
       "  'args': {'null': 55284,\n",
       "   'all': 13595,\n",
       "   'dep': 5857,\n",
       "   'zero': 4818,\n",
       "   'overt': 2787,\n",
       "   'exo': 133}},\n",
       " 'coreference': {'na': 64052, 'ana': 12030, 'exo': 179, 'mentions': 12209},\n",
       " 'tokens': 641573}"
      ]
     },
     "execution_count": 11,
     "metadata": {},
     "output_type": "execute_result"
    }
   ],
   "source": [
    "stat_train_kc = config.init_obj('train_kc_dataset', module_dataset).stat()\n",
    "json.loads(json.dumps(stat_train_kc))"
   ]
  }
 ],
 "metadata": {
  "kernelspec": {
   "display_name": "Python 3",
   "language": "python",
   "name": "python3"
  },
  "language_info": {
   "codemirror_mode": {
    "name": "ipython",
    "version": 3
   },
   "file_extension": ".py",
   "mimetype": "text/x-python",
   "name": "python",
   "nbconvert_exporter": "python",
   "pygments_lexer": "ipython3",
   "version": "3.8.6"
  }
 },
 "nbformat": 4,
 "nbformat_minor": 4
}
