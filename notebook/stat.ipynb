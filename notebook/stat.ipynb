{
 "cells": [
  {
   "cell_type": "code",
   "execution_count": 1,
   "metadata": {},
   "outputs": [],
   "source": [
    "from pathlib import Path\n",
    "from kyoto_reader import KyotoReader"
   ]
  },
  {
   "cell_type": "code",
   "execution_count": 2,
   "metadata": {},
   "outputs": [],
   "source": [
    "import sys; sys.path.append('../src')\n",
    "from data_loader.dataset.pas_dataset import PASDataset\n",
    "import data_loader.dataset as module_dataset\n",
    "from utils.parse_config import ConfigParser\n",
    "from utils import read_json"
   ]
  },
  {
   "cell_type": "code",
   "execution_count": 3,
   "metadata": {},
   "outputs": [],
   "source": [
    "cfg_file = 'BaselineModelOld-all-4e-nict-cz-vpa-npa-brg-coref.json'\n",
    "json_obj = read_json(cfg_file)\n",
    "json_obj['trainer']['save_dir'] = ''\n",
    "config = ConfigParser(json_obj, run_id='')"
   ]
  },
  {
   "cell_type": "code",
   "execution_count": 4,
   "metadata": {},
   "outputs": [
    {
     "name": "stderr",
     "output_type": "stream",
     "text": [
      "processing documents: 100%|██████████| 512/512 [00:15<00:00, 33.08it/s]\n"
     ]
    }
   ],
   "source": [
    "# valid_kwdlc_dataset = config.init_obj('valid_kwdlc_dataset', module_dataset)\n",
    "train_kwdlc_dataset = config.init_obj('train_kwdlc_dataset', module_dataset)"
   ]
  },
  {
   "cell_type": "code",
   "execution_count": 10,
   "metadata": {},
   "outputs": [
    {
     "data": {
      "text/plain": [
       "{'examples': 512,\n",
       " 'pas': {'preds': 4322,\n",
       "  'args': {'ガ': {'all': 3261,\n",
       "    'dep': 1159,\n",
       "    'overt': 422,\n",
       "    'null': 1059,\n",
       "    'zero': 553,\n",
       "    'exo': 1127},\n",
       "   'ヲ': {'null': 3327,\n",
       "    'all': 993,\n",
       "    'zero': 184,\n",
       "    'dep': 234,\n",
       "    'overt': 554,\n",
       "    'exo': 21},\n",
       "   'ニ': {'all': 972,\n",
       "    'overt': 479,\n",
       "    'null': 3343,\n",
       "    'exo': 228,\n",
       "    'zero': 169,\n",
       "    'dep': 96},\n",
       "   'ガ２': {'null': 4057, 'all': 265, 'dep': 77, 'exo': 122, 'zero': 66},\n",
       "   'all': {'all': 5491,\n",
       "    'dep': 1566,\n",
       "    'overt': 1455,\n",
       "    'null': 11786,\n",
       "    'zero': 972,\n",
       "    'exo': 1498}}},\n",
       " 'bridging': {'preds': 6750,\n",
       "  'args': {'null': 5557,\n",
       "   'all': 1193,\n",
       "   'dep': 492,\n",
       "   'zero': 318,\n",
       "   'overt': 285,\n",
       "   'exo': 98}},\n",
       " 'coreference': {'na': 5925, 'ana': 912, 'exo': 104, 'mentions': 1016},\n",
       " 'tokens': {'all': 65536, 'input': 28936, 'unk': 107}}"
      ]
     },
     "execution_count": 10,
     "metadata": {},
     "output_type": "execute_result"
    }
   ],
   "source": [
    "import json\n",
    "stat = valid_kwdlc_dataset.stat()\n",
    "json.loads(json.dumps(stat))"
   ]
  }
 ],
 "metadata": {
  "kernelspec": {
   "display_name": "Python 3",
   "language": "python",
   "name": "python3"
  },
  "language_info": {
   "codemirror_mode": {
    "name": "ipython",
    "version": 3
   },
   "file_extension": ".py",
   "mimetype": "text/x-python",
   "name": "python",
   "nbconvert_exporter": "python",
   "pygments_lexer": "ipython3",
   "version": "3.7.8"
  }
 },
 "nbformat": 4,
 "nbformat_minor": 4
}
