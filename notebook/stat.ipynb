{
 "cells": [
  {
   "cell_type": "code",
   "execution_count": 2,
   "metadata": {},
   "outputs": [],
   "source": [
    "%load_ext autoreload"
   ]
  },
  {
   "cell_type": "code",
   "execution_count": 3,
   "metadata": {},
   "outputs": [],
   "source": [
    "%autoreload"
   ]
  },
  {
   "cell_type": "code",
   "execution_count": 4,
   "metadata": {},
   "outputs": [],
   "source": [
    "from pathlib import Path\n",
    "from kyoto_reader import KyotoReader\n",
    "import json"
   ]
  },
  {
   "cell_type": "code",
   "execution_count": 5,
   "metadata": {},
   "outputs": [],
   "source": [
    "import sys; sys.path.append('../src')\n",
    "from data_loader.dataset.pas_dataset import PASDataset\n",
    "import data_loader.dataset as module_dataset\n",
    "from utils.parse_config import ConfigParser\n",
    "from utils import read_json"
   ]
  },
  {
   "cell_type": "code",
   "execution_count": 6,
   "metadata": {},
   "outputs": [],
   "source": [
    "cfg_file = 'BaselineModel-wnf-4e-nict-ocz-vpa-npa-bar-cr.json'\n",
    "json_obj = read_json(cfg_file)\n",
    "json_obj['trainer']['save_dir'] = ''\n",
    "config = ConfigParser(json_obj, run_id='')"
   ]
  },
  {
   "cell_type": "code",
   "execution_count": 7,
   "metadata": {},
   "outputs": [
    {
     "name": "stderr",
     "output_type": "stream",
     "text": [
      "processing documents: 100%|██████████| 512/512 [00:02<00:00, 183.59it/s]\n"
     ]
    },
    {
     "data": {
      "text/plain": [
       "{'examples': 512,\n",
       " 'pas': {'preds': 4322,\n",
       "  'args': {'ガ': {'all': 3508,\n",
       "    'dep': 1161,\n",
       "    'overt': 420,\n",
       "    'null': 812,\n",
       "    'zero': 553,\n",
       "    'exo': 1374},\n",
       "   'ヲ': {'null': 3188,\n",
       "    'all': 1132,\n",
       "    'exo': 160,\n",
       "    'zero': 184,\n",
       "    'dep': 236,\n",
       "    'overt': 552},\n",
       "   'ニ': {'all': 1052,\n",
       "    'overt': 467,\n",
       "    'null': 3263,\n",
       "    'exo': 309,\n",
       "    'zero': 168,\n",
       "    'dep': 108},\n",
       "   'ガ２': {'null': 4014, 'all': 308, 'dep': 77, 'exo': 165, 'zero': 66},\n",
       "   'all': {'all': 6000,\n",
       "    'dep': 1582,\n",
       "    'overt': 1439,\n",
       "    'null': 11277,\n",
       "    'zero': 971,\n",
       "    'exo': 2008}}},\n",
       " 'bridging': {'preds': 6750,\n",
       "  'args': {'all': 1335,\n",
       "   'exo': 242,\n",
       "   'null': 5415,\n",
       "   'dep': 491,\n",
       "   'zero': 317,\n",
       "   'overt': 285}},\n",
       " 'coreference': {'na': 5840, 'ana': 915, 'exo': 218, 'mentions': 1133},\n",
       " 'tokens': 26376}"
      ]
     },
     "execution_count": 7,
     "metadata": {},
     "output_type": "execute_result"
    }
   ],
   "source": [
    "stat_valid_kwdlc = config.init_obj('valid_datasets.kwdlc', module_dataset).stat()\n",
    "json.loads(json.dumps(stat_valid_kwdlc))"
   ]
  },
  {
   "cell_type": "code",
   "execution_count": 8,
   "metadata": {},
   "outputs": [
    {
     "name": "stderr",
     "output_type": "stream",
     "text": [
      "processing documents: 100%|██████████| 3912/3912 [00:16<00:00, 233.47it/s]\n"
     ]
    },
    {
     "data": {
      "text/plain": [
       "{'examples': 3912,\n",
       " 'pas': {'preds': 38191,\n",
       "  'args': {'ガ': {'all': 29803,\n",
       "    'exo': 11100,\n",
       "    'overt': 3522,\n",
       "    'null': 8372,\n",
       "    'dep': 9213,\n",
       "    'zero': 5968},\n",
       "   'ヲ': {'all': 12093,\n",
       "    'dep': 3129,\n",
       "    'overt': 5457,\n",
       "    'null': 26097,\n",
       "    'zero': 2548,\n",
       "    'exo': 959},\n",
       "   'ニ': {'null': 29356,\n",
       "    'all': 8826,\n",
       "    'overt': 3510,\n",
       "    'zero': 1632,\n",
       "    'dep': 885,\n",
       "    'exo': 2799},\n",
       "   'ガ２': {'null': 36682, 'all': 1508, 'dep': 559, 'exo': 631, 'zero': 318},\n",
       "   'all': {'all': 52230,\n",
       "    'exo': 15489,\n",
       "    'overt': 12489,\n",
       "    'null': 100507,\n",
       "    'dep': 13786,\n",
       "    'zero': 10466}}},\n",
       " 'bridging': {'preds': 53421,\n",
       "  'args': {'null': 43129,\n",
       "   'all': 10292,\n",
       "   'zero': 2783,\n",
       "   'dep': 4352,\n",
       "   'overt': 2178,\n",
       "   'exo': 979}},\n",
       " 'coreference': {'na': 47870, 'exo': 1798, 'ana': 8645, 'mentions': 10443},\n",
       " 'tokens': 219920}"
      ]
     },
     "execution_count": 8,
     "metadata": {},
     "output_type": "execute_result"
    }
   ],
   "source": [
    "stat_train_kwdlc = config.init_obj('train_datasets.kwdlc', module_dataset).stat()\n",
    "json.loads(json.dumps(stat_train_kwdlc))"
   ]
  },
  {
   "cell_type": "code",
   "execution_count": 9,
   "metadata": {},
   "outputs": [
    {
     "name": "stderr",
     "output_type": "stream",
     "text": [
      "processing documents: 100%|██████████| 843/843 [00:08<00:00, 102.43it/s]\n"
     ]
    },
    {
     "data": {
      "text/plain": [
       "{'examples': 843,\n",
       " 'pas': {'preds': 5794,\n",
       "  'args': {'ガ': {'all': 4185,\n",
       "    'exo': 557,\n",
       "    'dep': 1520,\n",
       "    'null': 1604,\n",
       "    'overt': 665,\n",
       "    'zero': 1443},\n",
       "   'ヲ': {'null': 4114,\n",
       "    'all': 1679,\n",
       "    'overt': 925,\n",
       "    'dep': 424,\n",
       "    'zero': 303,\n",
       "    'exo': 27},\n",
       "   'ニ': {'null': 4787,\n",
       "    'all': 1007,\n",
       "    'overt': 546,\n",
       "    'exo': 114,\n",
       "    'zero': 252,\n",
       "    'dep': 95},\n",
       "   'ガ２': {'null': 5696, 'all': 98, 'zero': 46, 'dep': 42, 'exo': 10},\n",
       "   'all': {'all': 6969,\n",
       "    'exo': 708,\n",
       "    'dep': 2081,\n",
       "    'null': 16201,\n",
       "    'overt': 2136,\n",
       "    'zero': 2044}}},\n",
       " 'bridging': {'preds': 9212,\n",
       "  'args': {'null': 7484,\n",
       "   'all': 1728,\n",
       "   'dep': 746,\n",
       "   'zero': 611,\n",
       "   'overt': 345,\n",
       "   'exo': 26}},\n",
       " 'coreference': {'na': 8716, 'ana': 1598, 'exo': 29, 'mentions': 1627},\n",
       " 'tokens': 86244}"
      ]
     },
     "execution_count": 9,
     "metadata": {},
     "output_type": "execute_result"
    }
   ],
   "source": [
    "stat_valid_kc = config.init_obj('valid_datasets.kc', module_dataset).stat()\n",
    "json.loads(json.dumps(stat_valid_kc))"
   ]
  },
  {
   "cell_type": "code",
   "execution_count": 12,
   "metadata": {},
   "outputs": [
    {
     "name": "stderr",
     "output_type": "stream",
     "text": [
      "processing documents: 100%|██████████| 6234/6234 [00:25<00:00, 247.74it/s]\n"
     ]
    },
    {
     "data": {
      "text/plain": [
       "{'examples': 6227,\n",
       " 'pas': {'preds': 41201,\n",
       "  'args': {'ガ': {'null': 10708,\n",
       "    'all': 30427,\n",
       "    'zero': 10819,\n",
       "    'dep': 11676,\n",
       "    'overt': 4807,\n",
       "    'exo': 3125},\n",
       "   'ヲ': {'null': 29061,\n",
       "    'all': 12127,\n",
       "    'zero': 2326,\n",
       "    'overt': 6639,\n",
       "    'dep': 2903,\n",
       "    'exo': 259},\n",
       "   'ニ': {'all': 7858,\n",
       "    'overt': 4149,\n",
       "    'null': 33327,\n",
       "    'dep': 809,\n",
       "    'zero': 2032,\n",
       "    'exo': 868},\n",
       "   'ガ２': {'null': 40537, 'all': 664, 'dep': 321, 'zero': 280, 'exo': 63},\n",
       "   'all': {'null': 113633,\n",
       "    'all': 51076,\n",
       "    'zero': 15457,\n",
       "    'dep': 15709,\n",
       "    'overt': 15595,\n",
       "    'exo': 4315}}},\n",
       " 'bridging': {'preds': 68879,\n",
       "  'args': {'null': 55257,\n",
       "   'all': 13622,\n",
       "   'dep': 5857,\n",
       "   'zero': 4813,\n",
       "   'overt': 2787,\n",
       "   'exo': 165}},\n",
       " 'coreference': {'na': 62524, 'ana': 12971, 'exo': 197, 'mentions': 13168},\n",
       " 'tokens': 638242}"
      ]
     },
     "execution_count": 12,
     "metadata": {},
     "output_type": "execute_result"
    }
   ],
   "source": [
    "stat_train_kc = config.init_obj('train_datasets.kc', module_dataset).stat()\n",
    "json.loads(json.dumps(stat_train_kc))"
   ]
  },
  {
   "cell_type": "code",
   "execution_count": 19,
   "metadata": {},
   "outputs": [
    {
     "name": "stderr",
     "output_type": "stream",
     "text": [
      "processing documents: 100%|██████████| 512/512 [00:01<00:00, 284.71it/s]\n"
     ]
    },
    {
     "data": {
      "text/plain": [
       "{'examples': 512,\n",
       " 'pas': {'preds': 3505,\n",
       "  'args': {'ガ': {'all': 2999,\n",
       "    'dep': 1040,\n",
       "    'overt': 419,\n",
       "    'zero': 453,\n",
       "    'null': 504,\n",
       "    'exo': 1087},\n",
       "   'ヲ': {'null': 2600,\n",
       "    'all': 904,\n",
       "    'zero': 117,\n",
       "    'dep': 146,\n",
       "    'overt': 551,\n",
       "    'exo': 90},\n",
       "   'ニ': {'all': 921,\n",
       "    'overt': 461,\n",
       "    'null': 2577,\n",
       "    'exo': 239,\n",
       "    'zero': 138,\n",
       "    'dep': 83},\n",
       "   'ガ２': {'null': 3206, 'all': 299, 'dep': 74, 'exo': 162, 'zero': 63},\n",
       "   'all': {'all': 5123,\n",
       "    'dep': 1343,\n",
       "    'overt': 1431,\n",
       "    'zero': 771,\n",
       "    'null': 8887,\n",
       "    'exo': 1578}}},\n",
       " 'bridging': {'preds': 6750,\n",
       "  'args': {'all': 1335,\n",
       "   'exo': 242,\n",
       "   'null': 5415,\n",
       "   'dep': 491,\n",
       "   'zero': 317,\n",
       "   'overt': 285}},\n",
       " 'coreference': {'na': 5840, 'ana': 915, 'exo': 218, 'mentions': 1133},\n",
       " 'tokens': 26376}"
      ]
     },
     "execution_count": 19,
     "metadata": {},
     "output_type": "execute_result"
    }
   ],
   "source": [
    "config['valid_datasets']['kwdlc']['args']['pas_targets'] = ['pred']\n",
    "stat_valid_kwdlc_pred = config.init_obj('valid_datasets.kwdlc', module_dataset).stat()\n",
    "config['valid_datasets']['kwdlc']['args']['pas_targets'] = ['pred', 'noun']\n",
    "json.loads(json.dumps(stat_valid_kwdlc_pred))"
   ]
  },
  {
   "cell_type": "code",
   "execution_count": 21,
   "metadata": {},
   "outputs": [
    {
     "name": "stderr",
     "output_type": "stream",
     "text": [
      "processing documents: 100%|██████████| 3912/3912 [00:11<00:00, 347.65it/s]\n"
     ]
    },
    {
     "data": {
      "text/plain": [
       "{'examples': 3912,\n",
       " 'pas': {'preds': 27475,\n",
       "  'args': {'ガ': {'all': 23384,\n",
       "    'exo': 7822,\n",
       "    'overt': 3501,\n",
       "    'null': 4075,\n",
       "    'zero': 4313,\n",
       "    'dep': 7748},\n",
       "   'ヲ': {'all': 8787,\n",
       "    'overt': 5434,\n",
       "    'null': 18687,\n",
       "    'dep': 1560,\n",
       "    'zero': 1481,\n",
       "    'exo': 312},\n",
       "   'ニ': {'null': 20075,\n",
       "    'all': 7391,\n",
       "    'overt': 3490,\n",
       "    'zero': 1169,\n",
       "    'exo': 2124,\n",
       "    'dep': 608},\n",
       "   'ガ２': {'null': 26001, 'all': 1473, 'dep': 549, 'exo': 618, 'zero': 306},\n",
       "   'all': {'all': 41035,\n",
       "    'exo': 10876,\n",
       "    'overt': 12425,\n",
       "    'null': 68838,\n",
       "    'zero': 7269,\n",
       "    'dep': 10465}}},\n",
       " 'bridging': {'preds': 53421,\n",
       "  'args': {'null': 43129,\n",
       "   'all': 10292,\n",
       "   'zero': 2783,\n",
       "   'dep': 4352,\n",
       "   'overt': 2178,\n",
       "   'exo': 979}},\n",
       " 'coreference': {'na': 47870, 'exo': 1798, 'ana': 8645, 'mentions': 10443},\n",
       " 'tokens': 219920}"
      ]
     },
     "execution_count": 21,
     "metadata": {},
     "output_type": "execute_result"
    }
   ],
   "source": [
    "config['train_datasets']['kwdlc']['args']['pas_targets'] = ['pred']\n",
    "stat_train_kwdlc_pred = config.init_obj('train_datasets.kwdlc', module_dataset).stat()\n",
    "config['train_datasets']['kwdlc']['args']['pas_targets'] = ['pred', 'noun']\n",
    "json.loads(json.dumps(stat_train_kwdlc_pred))"
   ]
  },
  {
   "cell_type": "code",
   "execution_count": 22,
   "metadata": {},
   "outputs": [
    {
     "name": "stderr",
     "output_type": "stream",
     "text": [
      "processing documents: 100%|██████████| 6234/6234 [07:16<00:00, 14.28it/s]  \n"
     ]
    },
    {
     "data": {
      "text/plain": [
       "{'examples': 6227,\n",
       " 'pas': {'preds': 28374,\n",
       "  'args': {'ガ': {'null': 5181,\n",
       "    'all': 23129,\n",
       "    'zero': 7463,\n",
       "    'overt': 4785,\n",
       "    'dep': 9314,\n",
       "    'exo': 1567},\n",
       "   'ヲ': {'null': 19525,\n",
       "    'all': 8839,\n",
       "    'overt': 6616,\n",
       "    'zero': 1129,\n",
       "    'dep': 1060,\n",
       "    'exo': 34},\n",
       "   'ニ': {'all': 6702,\n",
       "    'overt': 4126,\n",
       "    'null': 21657,\n",
       "    'zero': 1333,\n",
       "    'exo': 757,\n",
       "    'dep': 486},\n",
       "   'ガ２': {'null': 27728, 'all': 646, 'dep': 314, 'zero': 271, 'exo': 61},\n",
       "   'all': {'null': 74091,\n",
       "    'all': 39316,\n",
       "    'zero': 10196,\n",
       "    'overt': 15527,\n",
       "    'dep': 11174,\n",
       "    'exo': 2419}}},\n",
       " 'bridging': {'preds': 68879,\n",
       "  'args': {'null': 55257,\n",
       "   'all': 13622,\n",
       "   'dep': 5857,\n",
       "   'zero': 4813,\n",
       "   'overt': 2787,\n",
       "   'exo': 165}},\n",
       " 'coreference': {'na': 62524, 'ana': 12971, 'exo': 197, 'mentions': 13168},\n",
       " 'tokens': 638242}"
      ]
     },
     "execution_count": 22,
     "metadata": {},
     "output_type": "execute_result"
    }
   ],
   "source": [
    "config['train_datasets']['kc']['args']['pas_targets'] = ['pred']\n",
    "stat_train_kc_pred = config.init_obj('train_datasets.kc', module_dataset).stat()\n",
    "config['train_datasets']['kc']['args']['pas_targets'] = ['pred', 'noun']\n",
    "json.loads(json.dumps(stat_train_kc_pred))"
   ]
  },
  {
   "cell_type": "code",
   "execution_count": 25,
   "metadata": {},
   "outputs": [
    {
     "name": "stderr",
     "output_type": "stream",
     "text": [
      "processing documents: 100%|██████████| 3912/3912 [00:15<00:00, 258.15it/s]\n"
     ]
    },
    {
     "data": {
      "text/plain": [
       "{'examples': 3912,\n",
       " 'pas': {'preds': 10729,\n",
       "  'args': {'ガ': {'all': 6428,\n",
       "    'exo': 3281,\n",
       "    'null': 4301,\n",
       "    'dep': 1469,\n",
       "    'zero': 1657,\n",
       "    'overt': 21},\n",
       "   'ヲ': {'all': 3310,\n",
       "    'dep': 1572,\n",
       "    'null': 7419,\n",
       "    'zero': 1068,\n",
       "    'exo': 647,\n",
       "    'overt': 23},\n",
       "   'ニ': {'null': 9292,\n",
       "    'all': 1437,\n",
       "    'dep': 277,\n",
       "    'zero': 463,\n",
       "    'exo': 676,\n",
       "    'overt': 21},\n",
       "   'ガ２': {'null': 10694, 'all': 35, 'zero': 12, 'exo': 13, 'dep': 10},\n",
       "   'all': {'all': 11210,\n",
       "    'exo': 4617,\n",
       "    'null': 31706,\n",
       "    'dep': 3328,\n",
       "    'zero': 3200,\n",
       "    'overt': 65}}},\n",
       " 'bridging': {'preds': 53421,\n",
       "  'args': {'null': 43129,\n",
       "   'all': 10292,\n",
       "   'zero': 2783,\n",
       "   'dep': 4352,\n",
       "   'overt': 2178,\n",
       "   'exo': 979}},\n",
       " 'coreference': {'na': 47870, 'exo': 1798, 'ana': 8645, 'mentions': 10443},\n",
       " 'tokens': 219920}"
      ]
     },
     "execution_count": 25,
     "metadata": {},
     "output_type": "execute_result"
    }
   ],
   "source": [
    "config['train_datasets']['kwdlc']['args']['pas_targets'] = ['noun']\n",
    "stat_train_kwdlc_noun = config.init_obj('train_datasets.kwdlc', module_dataset).stat()\n",
    "config['train_datasets']['kwdlc']['args']['pas_targets'] = ['pred', 'noun']\n",
    "json.loads(json.dumps(stat_train_kwdlc_noun))"
   ]
  },
  {
   "cell_type": "code",
   "execution_count": 26,
   "metadata": {},
   "outputs": [
    {
     "data": {
      "text/plain": [
       "{'examples': 6227,\n",
       " 'pas': {'preds': 12871,\n",
       "  'args': {'ガ': {'null': 5534,\n",
       "    'all': 7334,\n",
       "    'dep': 2374,\n",
       "    'zero': 3371,\n",
       "    'exo': 1562,\n",
       "    'overt': 27},\n",
       "   'ヲ': {'null': 9566,\n",
       "    'all': 3302,\n",
       "    'zero': 1200,\n",
       "    'dep': 1850,\n",
       "    'exo': 225,\n",
       "    'overt': 27},\n",
       "   'ニ': {'null': 11708,\n",
       "    'all': 1162,\n",
       "    'dep': 324,\n",
       "    'zero': 701,\n",
       "    'exo': 111,\n",
       "    'overt': 26},\n",
       "   'ガ２': {'null': 12850, 'all': 21, 'zero': 12, 'dep': 7, 'exo': 2},\n",
       "   'all': {'null': 39658,\n",
       "    'all': 11819,\n",
       "    'dep': 4555,\n",
       "    'zero': 5284,\n",
       "    'exo': 1900,\n",
       "    'overt': 80}}},\n",
       " 'bridging': {'preds': 68879,\n",
       "  'args': {'null': 55257,\n",
       "   'all': 13622,\n",
       "   'dep': 5857,\n",
       "   'zero': 4813,\n",
       "   'overt': 2787,\n",
       "   'exo': 165}},\n",
       " 'coreference': {'na': 62524, 'ana': 12971, 'exo': 197, 'mentions': 13168},\n",
       " 'tokens': 638242}"
      ]
     },
     "execution_count": 26,
     "metadata": {},
     "output_type": "execute_result"
    }
   ],
   "source": [
    "config['train_datasets']['kc']['args']['pas_targets'] = ['noun']\n",
    "# stat_train_kc_noun = config.init_obj('train_datasets.kc', module_dataset).stat()\n",
    "config['train_datasets']['kc']['args']['pas_targets'] = ['pred', 'noun']\n",
    "json.loads(json.dumps(stat_train_kc_noun))"
   ]
  },
  {
   "cell_type": "code",
   "execution_count": null,
   "metadata": {},
   "outputs": [],
   "source": []
  }
 ],
 "metadata": {
  "kernelspec": {
   "display_name": "Python 3",
   "language": "python",
   "name": "python3"
  },
  "language_info": {
   "codemirror_mode": {
    "name": "ipython",
    "version": 3
   },
   "file_extension": ".py",
   "mimetype": "text/x-python",
   "name": "python",
   "nbconvert_exporter": "python",
   "pygments_lexer": "ipython3",
   "version": "3.8.6"
  }
 },
 "nbformat": 4,
 "nbformat_minor": 4
}
